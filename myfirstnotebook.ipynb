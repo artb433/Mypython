{
 "cells": [
  {
   "cell_type": "code",
   "execution_count": 1,
   "id": "4fe358ea",
   "metadata": {},
   "outputs": [
    {
     "name": "stdout",
     "output_type": "stream",
     "text": [
      "hello world\n"
     ]
    }
   ],
   "source": [
    "print('hello world')"
   ]
  },
  {
   "cell_type": "code",
   "execution_count": 2,
   "id": "a503959a",
   "metadata": {},
   "outputs": [
    {
     "name": "stdout",
     "output_type": "stream",
     "text": [
      "new\n"
     ]
    }
   ],
   "source": [
    "print('new')"
   ]
  },
  {
   "cell_type": "code",
   "execution_count": 3,
   "id": "6160b4d2",
   "metadata": {},
   "outputs": [],
   "source": [
    "a=5.4"
   ]
  },
  {
   "cell_type": "code",
   "execution_count": 4,
   "id": "cc9f3d6c",
   "metadata": {},
   "outputs": [
    {
     "data": {
      "text/plain": [
       "float"
      ]
     },
     "execution_count": 4,
     "metadata": {},
     "output_type": "execute_result"
    }
   ],
   "source": [
    "type(a)"
   ]
  },
  {
   "cell_type": "code",
   "execution_count": 5,
   "id": "52de63e7",
   "metadata": {},
   "outputs": [
    {
     "name": "stdout",
     "output_type": "stream",
     "text": [
      "5.4\n"
     ]
    }
   ],
   "source": [
    "print(a)"
   ]
  },
  {
   "cell_type": "code",
   "execution_count": 6,
   "id": "c5319fc9",
   "metadata": {},
   "outputs": [
    {
     "ename": "AttributeError",
     "evalue": "'float' object has no attribute 'runtimetype'",
     "output_type": "error",
     "traceback": [
      "\u001b[1;31m---------------------------------------------------------------------------\u001b[0m",
      "\u001b[1;31mAttributeError\u001b[0m                            Traceback (most recent call last)",
      "\u001b[1;32m~\\AppData\\Local\\Temp/ipykernel_6268/1575488350.py\u001b[0m in \u001b[0;36m<module>\u001b[1;34m\u001b[0m\n\u001b[1;32m----> 1\u001b[1;33m \u001b[0mprint\u001b[0m\u001b[1;33m(\u001b[0m\u001b[0ma\u001b[0m\u001b[1;33m.\u001b[0m\u001b[0mruntimetype\u001b[0m\u001b[1;33m)\u001b[0m\u001b[1;33m\u001b[0m\u001b[1;33m\u001b[0m\u001b[0m\n\u001b[0m",
      "\u001b[1;31mAttributeError\u001b[0m: 'float' object has no attribute 'runtimetype'"
     ]
    }
   ],
   "source": [
    "print(a.runtimetype)"
   ]
  },
  {
   "cell_type": "code",
   "execution_count": 10,
   "id": "a4ce66ca",
   "metadata": {},
   "outputs": [],
   "source": [
    "my_pay = 100\n",
    "myTaxrate = 10/100\n",
    "my_taxes = my_pay * myTaxrate"
   ]
  },
  {
   "cell_type": "code",
   "execution_count": 11,
   "id": "45771247",
   "metadata": {},
   "outputs": [
    {
     "data": {
      "text/plain": [
       "0.1"
      ]
     },
     "execution_count": 11,
     "metadata": {},
     "output_type": "execute_result"
    }
   ],
   "source": [
    "myTaxrate\n"
   ]
  },
  {
   "cell_type": "code",
   "execution_count": 12,
   "id": "bdccc7fb",
   "metadata": {},
   "outputs": [
    {
     "data": {
      "text/plain": [
       "10.0"
      ]
     },
     "execution_count": 12,
     "metadata": {},
     "output_type": "execute_result"
    }
   ],
   "source": [
    "my_taxes\n"
   ]
  },
  {
   "cell_type": "code",
   "execution_count": 13,
   "id": "6f53d9a6",
   "metadata": {},
   "outputs": [],
   "source": [
    "mystr = 'hello world'"
   ]
  },
  {
   "cell_type": "code",
   "execution_count": 14,
   "id": "062dc414",
   "metadata": {},
   "outputs": [
    {
     "name": "stdout",
     "output_type": "stream",
     "text": [
      "d\n"
     ]
    }
   ],
   "source": [
    "print(mystr[-1])"
   ]
  },
  {
   "cell_type": "code",
   "execution_count": 16,
   "id": "49597692",
   "metadata": {},
   "outputs": [
    {
     "data": {
      "text/plain": [
       "' '"
      ]
     },
     "execution_count": 16,
     "metadata": {},
     "output_type": "execute_result"
    }
   ],
   "source": [
    "mystr[5]"
   ]
  },
  {
   "cell_type": "code",
   "execution_count": 17,
   "id": "eee1ba4e",
   "metadata": {},
   "outputs": [
    {
     "data": {
      "text/plain": [
       "'lo world'"
      ]
     },
     "execution_count": 17,
     "metadata": {},
     "output_type": "execute_result"
    }
   ],
   "source": [
    "mystr[3:]"
   ]
  },
  {
   "cell_type": "code",
   "execution_count": 18,
   "id": "3ded00f2",
   "metadata": {},
   "outputs": [
    {
     "data": {
      "text/plain": [
       "'lo wor'"
      ]
     },
     "execution_count": 18,
     "metadata": {},
     "output_type": "execute_result"
    }
   ],
   "source": [
    "mystr[3:-2]"
   ]
  },
  {
   "cell_type": "code",
   "execution_count": 19,
   "id": "25fe3364",
   "metadata": {},
   "outputs": [
    {
     "data": {
      "text/plain": [
       "'he'"
      ]
     },
     "execution_count": 19,
     "metadata": {},
     "output_type": "execute_result"
    }
   ],
   "source": [
    "mystr[:2]"
   ]
  },
  {
   "cell_type": "code",
   "execution_count": 20,
   "id": "63f12563",
   "metadata": {},
   "outputs": [
    {
     "data": {
      "text/plain": [
       "'hello world'"
      ]
     },
     "execution_count": 20,
     "metadata": {},
     "output_type": "execute_result"
    }
   ],
   "source": [
    "mystr[0:]"
   ]
  },
  {
   "cell_type": "code",
   "execution_count": 21,
   "id": "b3a7b31e",
   "metadata": {},
   "outputs": [
    {
     "data": {
      "text/plain": [
       "'hlowrd'"
      ]
     },
     "execution_count": 21,
     "metadata": {},
     "output_type": "execute_result"
    }
   ],
   "source": [
    "mystr[::2]"
   ]
  },
  {
   "cell_type": "code",
   "execution_count": 22,
   "id": "a0248f32",
   "metadata": {},
   "outputs": [
    {
     "data": {
      "text/plain": [
       "'hlwl'"
      ]
     },
     "execution_count": 22,
     "metadata": {},
     "output_type": "execute_result"
    }
   ],
   "source": [
    "mystr[::3]"
   ]
  },
  {
   "cell_type": "code",
   "execution_count": 23,
   "id": "6d7ee1a5",
   "metadata": {},
   "outputs": [
    {
     "data": {
      "text/plain": [
       "'dlrow olleh'"
      ]
     },
     "execution_count": 23,
     "metadata": {},
     "output_type": "execute_result"
    }
   ],
   "source": [
    "mystr[::-1]"
   ]
  },
  {
   "cell_type": "code",
   "execution_count": 24,
   "id": "727ecd2e",
   "metadata": {},
   "outputs": [
    {
     "data": {
      "text/plain": [
       "'drwolh'"
      ]
     },
     "execution_count": 24,
     "metadata": {},
     "output_type": "execute_result"
    }
   ],
   "source": [
    "mystr[::-2]"
   ]
  },
  {
   "cell_type": "code",
   "execution_count": 25,
   "id": "12d11e03",
   "metadata": {},
   "outputs": [],
   "source": [
    "greet = \"Good morning\""
   ]
  },
  {
   "cell_type": "code",
   "execution_count": 26,
   "id": "ce78e401",
   "metadata": {},
   "outputs": [],
   "source": [
    "comment =\" Hello world\""
   ]
  },
  {
   "cell_type": "code",
   "execution_count": 27,
   "id": "77066a74",
   "metadata": {},
   "outputs": [
    {
     "data": {
      "text/plain": [
       "'Good morning Hello world'"
      ]
     },
     "execution_count": 27,
     "metadata": {},
     "output_type": "execute_result"
    }
   ],
   "source": [
    "greet + comment"
   ]
  },
  {
   "cell_type": "code",
   "execution_count": 28,
   "id": "ea330ca1",
   "metadata": {},
   "outputs": [],
   "source": [
    "name = 'Tom'"
   ]
  },
  {
   "cell_type": "code",
   "execution_count": 29,
   "id": "5d2e391f",
   "metadata": {},
   "outputs": [],
   "source": [
    "last_letters = name[1:]"
   ]
  },
  {
   "cell_type": "code",
   "execution_count": 30,
   "id": "73c7ea5d",
   "metadata": {},
   "outputs": [
    {
     "data": {
      "text/plain": [
       "'om'"
      ]
     },
     "execution_count": 30,
     "metadata": {},
     "output_type": "execute_result"
    }
   ],
   "source": [
    "last_letters"
   ]
  },
  {
   "cell_type": "code",
   "execution_count": 36,
   "id": "57015b60",
   "metadata": {},
   "outputs": [],
   "source": [
    "newName='M'+ last_letters"
   ]
  },
  {
   "cell_type": "code",
   "execution_count": 37,
   "id": "05f023c5",
   "metadata": {},
   "outputs": [
    {
     "data": {
      "text/plain": [
       "'Mom'"
      ]
     },
     "execution_count": 37,
     "metadata": {},
     "output_type": "execute_result"
    }
   ],
   "source": [
    "newName"
   ]
  },
  {
   "cell_type": "code",
   "execution_count": 38,
   "id": "6ad188a3",
   "metadata": {},
   "outputs": [
    {
     "data": {
      "text/plain": [
       "'MomMomMomMomMomMomMomMomMomMom'"
      ]
     },
     "execution_count": 38,
     "metadata": {},
     "output_type": "execute_result"
    }
   ],
   "source": [
    "newName*10"
   ]
  },
  {
   "cell_type": "code",
   "execution_count": 39,
   "id": "61897dca",
   "metadata": {},
   "outputs": [
    {
     "data": {
      "text/plain": [
       "'MOM'"
      ]
     },
     "execution_count": 39,
     "metadata": {},
     "output_type": "execute_result"
    }
   ],
   "source": [
    "newName.upper()"
   ]
  },
  {
   "cell_type": "code",
   "execution_count": 40,
   "id": "308c7974",
   "metadata": {},
   "outputs": [
    {
     "data": {
      "text/plain": [
       "['Hello', 'world']"
      ]
     },
     "execution_count": 40,
     "metadata": {},
     "output_type": "execute_result"
    }
   ],
   "source": [
    "comment.split()"
   ]
  },
  {
   "cell_type": "code",
   "execution_count": 50,
   "id": "11b09f59",
   "metadata": {},
   "outputs": [
    {
     "name": "stdout",
     "output_type": "stream",
     "text": [
      "Talk about the third, second and first\n"
     ]
    }
   ],
   "source": [
    "print('Talk about the {2}, {1} and {0}'.format('first',\"second\", 'third'))"
   ]
  },
  {
   "cell_type": "code",
   "execution_count": 58,
   "id": "197e30fe",
   "metadata": {},
   "outputs": [],
   "source": [
    "score = 100/47780"
   ]
  },
  {
   "cell_type": "code",
   "execution_count": 59,
   "id": "907ac778",
   "metadata": {},
   "outputs": [
    {
     "name": "stdout",
     "output_type": "stream",
     "text": [
      "The precise score is 0.002092925910422771\n"
     ]
    }
   ],
   "source": [
    "print('The precise score is {s}'.format(s=score))"
   ]
  },
  {
   "cell_type": "code",
   "execution_count": 61,
   "id": "c7c383fd",
   "metadata": {},
   "outputs": [
    {
     "name": "stdout",
     "output_type": "stream",
     "text": [
      "The precise score is 0.0021\n"
     ]
    }
   ],
   "source": [
    "print('The precise score is {s:1.4f}'.format(s=score))"
   ]
  },
  {
   "cell_type": "code",
   "execution_count": 63,
   "id": "753d09c3",
   "metadata": {},
   "outputs": [
    {
     "name": "stdout",
     "output_type": "stream",
     "text": [
      "The precise score 0.0021\n"
     ]
    }
   ],
   "source": [
    "print(f'The precise score {score:1.4f}')"
   ]
  },
  {
   "cell_type": "code",
   "execution_count": 64,
   "id": "3d901078",
   "metadata": {},
   "outputs": [
    {
     "ename": "AttributeError",
     "evalue": "'str' object has no attribute 'len'",
     "output_type": "error",
     "traceback": [
      "\u001b[1;31m---------------------------------------------------------------------------\u001b[0m",
      "\u001b[1;31mAttributeError\u001b[0m                            Traceback (most recent call last)",
      "\u001b[1;32m~\\AppData\\Local\\Temp/ipykernel_6268/3857953160.py\u001b[0m in \u001b[0;36m<module>\u001b[1;34m\u001b[0m\n\u001b[1;32m----> 1\u001b[1;33m \u001b[0mnewName\u001b[0m\u001b[1;33m.\u001b[0m\u001b[0mlen\u001b[0m\u001b[1;33m(\u001b[0m\u001b[1;33m)\u001b[0m\u001b[1;33m\u001b[0m\u001b[1;33m\u001b[0m\u001b[0m\n\u001b[0m",
      "\u001b[1;31mAttributeError\u001b[0m: 'str' object has no attribute 'len'"
     ]
    }
   ],
   "source": [
    "newName.len()"
   ]
  },
  {
   "cell_type": "code",
   "execution_count": 65,
   "id": "ae528e3d",
   "metadata": {},
   "outputs": [
    {
     "data": {
      "text/plain": [
       "3"
      ]
     },
     "execution_count": 65,
     "metadata": {},
     "output_type": "execute_result"
    }
   ],
   "source": [
    "len(newName)"
   ]
  },
  {
   "cell_type": "code",
   "execution_count": 66,
   "id": "b61be98a",
   "metadata": {},
   "outputs": [],
   "source": [
    "myList = ['string', 4, 39.4]"
   ]
  },
  {
   "cell_type": "code",
   "execution_count": 67,
   "id": "6973d0c4",
   "metadata": {},
   "outputs": [
    {
     "data": {
      "text/plain": [
       "['string', 4, 39.4]"
      ]
     },
     "execution_count": 67,
     "metadata": {},
     "output_type": "execute_result"
    }
   ],
   "source": [
    "myList"
   ]
  },
  {
   "cell_type": "code",
   "execution_count": 68,
   "id": "055a4a21",
   "metadata": {},
   "outputs": [],
   "source": [
    "hisList = ['ana','mom',4,5.6]"
   ]
  },
  {
   "cell_type": "code",
   "execution_count": 69,
   "id": "afcba3f0",
   "metadata": {},
   "outputs": [],
   "source": [
    "newList = myList + hisList"
   ]
  },
  {
   "cell_type": "code",
   "execution_count": 70,
   "id": "1fb03b6b",
   "metadata": {},
   "outputs": [
    {
     "data": {
      "text/plain": [
       "['string', 4, 39.4, 'ana', 'mom', 4, 5.6]"
      ]
     },
     "execution_count": 70,
     "metadata": {},
     "output_type": "execute_result"
    }
   ],
   "source": [
    "newList"
   ]
  },
  {
   "cell_type": "code",
   "execution_count": 71,
   "id": "c0b2b129",
   "metadata": {},
   "outputs": [
    {
     "data": {
      "text/plain": [
       "7"
      ]
     },
     "execution_count": 71,
     "metadata": {},
     "output_type": "execute_result"
    }
   ],
   "source": [
    "len(newList)"
   ]
  },
  {
   "cell_type": "code",
   "execution_count": 72,
   "id": "9655b42f",
   "metadata": {},
   "outputs": [],
   "source": [
    "newList[-2]='bro'"
   ]
  },
  {
   "cell_type": "code",
   "execution_count": 73,
   "id": "7440dc27",
   "metadata": {},
   "outputs": [
    {
     "data": {
      "text/plain": [
       "['string', 4, 39.4, 'ana', 'mom', 'bro', 5.6]"
      ]
     },
     "execution_count": 73,
     "metadata": {},
     "output_type": "execute_result"
    }
   ],
   "source": [
    "newList"
   ]
  },
  {
   "cell_type": "code",
   "execution_count": 74,
   "id": "41732a12",
   "metadata": {},
   "outputs": [],
   "source": [
    "newList.append('yes')"
   ]
  },
  {
   "cell_type": "code",
   "execution_count": 75,
   "id": "cd90fa31",
   "metadata": {},
   "outputs": [
    {
     "data": {
      "text/plain": [
       "['string', 4, 39.4, 'ana', 'mom', 'bro', 5.6, 'yes']"
      ]
     },
     "execution_count": 75,
     "metadata": {},
     "output_type": "execute_result"
    }
   ],
   "source": [
    "newList"
   ]
  },
  {
   "cell_type": "code",
   "execution_count": null,
   "id": "249ed97d",
   "metadata": {},
   "outputs": [],
   "source": []
  }
 ],
 "metadata": {
  "kernelspec": {
   "display_name": "Python 3 (ipykernel)",
   "language": "python",
   "name": "python3"
  },
  "language_info": {
   "codemirror_mode": {
    "name": "ipython",
    "version": 3
   },
   "file_extension": ".py",
   "mimetype": "text/x-python",
   "name": "python",
   "nbconvert_exporter": "python",
   "pygments_lexer": "ipython3",
   "version": "3.9.7"
  }
 },
 "nbformat": 4,
 "nbformat_minor": 5
}
