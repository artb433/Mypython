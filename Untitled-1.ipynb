{
 "cells": [
  {
   "cell_type": "code",
   "execution_count": 3,
   "metadata": {},
   "outputs": [
    {
     "name": "stdout",
     "output_type": "stream",
     "text": [
      "Hi Mike\n",
      "Hi Angel\n",
      "Hi Tom\n"
     ]
    }
   ],
   "source": [
    "friends =['Mike','Angel','Tom'] \n",
    "for friends in friends:\n",
    "    print(\"Hi \"+ friends)"
   ]
  }
 ],
 "metadata": {
  "interpreter": {
   "hash": "f18eb818c12c897c7cd6a9334b0d035f3a97139767af1d2a6f86b303032099af"
  },
  "kernelspec": {
   "display_name": "Python 3.9.7 ('base')",
   "language": "python",
   "name": "python3"
  },
  "language_info": {
   "codemirror_mode": {
    "name": "ipython",
    "version": 3
   },
   "file_extension": ".py",
   "mimetype": "text/x-python",
   "name": "python",
   "nbconvert_exporter": "python",
   "pygments_lexer": "ipython3",
   "version": "3.9.7"
  },
  "orig_nbformat": 4
 },
 "nbformat": 4,
 "nbformat_minor": 2
}
